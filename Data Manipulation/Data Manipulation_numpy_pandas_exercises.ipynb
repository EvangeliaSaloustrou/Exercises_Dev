{
 "cells": [
  {
   "cell_type": "markdown",
   "id": "43103ef9",
   "metadata": {},
   "source": [
    "# Learning Numpy"
   ]
  },
  {
   "cell_type": "code",
   "execution_count": 16,
   "id": "f04141eb",
   "metadata": {},
   "outputs": [],
   "source": [
    "import numpy as np "
   ]
  },
  {
   "cell_type": "markdown",
   "id": "eb3a7efd",
   "metadata": {},
   "source": [
    "### Creating Arrays"
   ]
  },
  {
   "cell_type": "markdown",
   "id": "6be7fddb",
   "metadata": {},
   "source": [
    "<strong><ins>All arrays mentioned here are numpy arrays as long as opposite is not mentioned</ins></strong> please solve the problems with this knowledge."
   ]
  },
  {
   "cell_type": "markdown",
   "id": "471f6974",
   "metadata": {},
   "source": [
    "Create an array in size of 4*3 and assing it to arr variable "
   ]
  },
  {
   "cell_type": "code",
   "execution_count": 50,
   "id": "12801da8",
   "metadata": {},
   "outputs": [
    {
     "data": {
      "text/plain": [
       "array([[0., 0., 0.],\n",
       "       [0., 0., 0.],\n",
       "       [0., 0., 0.],\n",
       "       [0., 0., 0.]])"
      ]
     },
     "execution_count": 50,
     "metadata": {},
     "output_type": "execute_result"
    }
   ],
   "source": [
    "arr = np.zeros((4, 3))\n",
    "arr"
   ]
  },
  {
   "attachments": {},
   "cell_type": "markdown",
   "id": "c82af80c",
   "metadata": {},
   "source": [
    "**Create an array with elements from 0 to 15 (both inclusive) and assing it to arr2 variable   \n",
    "Then print the shape of the arr2  \n",
    "copy the arr2 to arr2_copy  \n",
    "print arr2, arr2_copy   \n",
    "Change its shape to 4*4 and assign to itself   \n",
    "print arr2, arr2_copy again**    "
   ]
  },
  {
   "cell_type": "code",
   "execution_count": 57,
   "id": "dd0fad30",
   "metadata": {},
   "outputs": [
    {
     "data": {
      "text/plain": [
       "array([ 0,  1,  2,  3,  4,  5,  6,  7,  8,  9, 10, 11, 12, 13, 14, 15])"
      ]
     },
     "execution_count": 57,
     "metadata": {},
     "output_type": "execute_result"
    }
   ],
   "source": [
    "# Create an array with elements from 0 to 15 (both inclusive)\n",
    "arr2 = np.arange(16)\n",
    "arr2"
   ]
  },
  {
   "cell_type": "code",
   "execution_count": 56,
   "id": "14e1498d",
   "metadata": {},
   "outputs": [
    {
     "name": "stdout",
     "output_type": "stream",
     "text": [
      "(4, 4)\n"
     ]
    },
    {
     "data": {
      "text/plain": [
       "array([[ 0,  1,  2,  3],\n",
       "       [ 4,  5,  6,  7],\n",
       "       [ 8,  9, 10, 11],\n",
       "       [12, 13, 14, 15]])"
      ]
     },
     "execution_count": 56,
     "metadata": {},
     "output_type": "execute_result"
    }
   ],
   "source": [
    "# Then print the shape of the arr2 \n",
    "print(arr2.shape)\n",
    "arr2"
   ]
  },
  {
   "cell_type": "code",
   "execution_count": 58,
   "id": "7ce3c862",
   "metadata": {},
   "outputs": [],
   "source": [
    "arr2_copy = arr2.copy() "
   ]
  },
  {
   "cell_type": "code",
   "execution_count": 59,
   "id": "f06405d6",
   "metadata": {},
   "outputs": [
    {
     "name": "stdout",
     "output_type": "stream",
     "text": [
      "[ 0  1  2  3  4  5  6  7  8  9 10 11 12 13 14 15]\n"
     ]
    }
   ],
   "source": [
    "print(arr2_copy)"
   ]
  },
  {
   "cell_type": "code",
   "execution_count": 55,
   "id": "b6c7ea2f",
   "metadata": {
    "scrolled": true
   },
   "outputs": [
    {
     "name": "stdout",
     "output_type": "stream",
     "text": [
      "[[ 0  1  2  3]\n",
      " [ 4  5  6  7]\n",
      " [ 8  9 10 11]\n",
      " [12 13 14 15]]\n"
     ]
    }
   ],
   "source": [
    "arr2.resize((4, 4))\n",
    "print(arr2)"
   ]
  },
  {
   "cell_type": "code",
   "execution_count": 18,
   "id": "40172742",
   "metadata": {},
   "outputs": [
    {
     "name": "stdout",
     "output_type": "stream",
     "text": [
      "[ 0  1  2  3  4  5  6  7  8  9 10 11 12 13 14 15]\n"
     ]
    }
   ],
   "source": [
    "print(arr2_copy)"
   ]
  },
  {
   "cell_type": "markdown",
   "id": "5c312718",
   "metadata": {},
   "source": [
    "### Some Functions "
   ]
  },
  {
   "attachments": {},
   "cell_type": "markdown",
   "id": "4a6c4e92",
   "metadata": {},
   "source": [
    "##### How many dimentions there are in arr2 variable? "
   ]
  },
  {
   "cell_type": "code",
   "execution_count": 21,
   "id": "03c9544c",
   "metadata": {},
   "outputs": [
    {
     "name": "stdout",
     "output_type": "stream",
     "text": [
      "2\n"
     ]
    }
   ],
   "source": [
    "print(arr2.ndim)"
   ]
  },
  {
   "cell_type": "markdown",
   "id": "0d24dc16",
   "metadata": {},
   "source": [
    "##### Describe the number of rows and columns in arr2 variable "
   ]
  },
  {
   "cell_type": "code",
   "execution_count": 22,
   "id": "e4c71e21",
   "metadata": {},
   "outputs": [
    {
     "data": {
      "text/plain": [
       "(4, 4)"
      ]
     },
     "execution_count": 22,
     "metadata": {},
     "output_type": "execute_result"
    }
   ],
   "source": [
    "arr2.shape"
   ]
  },
  {
   "cell_type": "markdown",
   "id": "fb0109ad",
   "metadata": {},
   "source": [
    "##### How many elements there are in arr2 variable?"
   ]
  },
  {
   "cell_type": "code",
   "execution_count": 23,
   "id": "4f12ea1a",
   "metadata": {},
   "outputs": [
    {
     "data": {
      "text/plain": [
       "16"
      ]
     },
     "execution_count": 23,
     "metadata": {},
     "output_type": "execute_result"
    }
   ],
   "source": [
    "arr2.size"
   ]
  },
  {
   "cell_type": "markdown",
   "id": "3fb5ef4e",
   "metadata": {},
   "source": [
    "##### Print the data type of arr2"
   ]
  },
  {
   "cell_type": "code",
   "execution_count": 24,
   "id": "a1e76cbb",
   "metadata": {},
   "outputs": [
    {
     "data": {
      "text/plain": [
       "dtype('int32')"
      ]
     },
     "execution_count": 24,
     "metadata": {},
     "output_type": "execute_result"
    }
   ],
   "source": [
    "arr2.dtype"
   ]
  },
  {
   "cell_type": "markdown",
   "id": "3d6dc446",
   "metadata": {},
   "source": [
    "#### Print the data location in the memory"
   ]
  },
  {
   "cell_type": "code",
   "execution_count": 25,
   "id": "b480c54e",
   "metadata": {},
   "outputs": [
    {
     "data": {
      "text/plain": [
       "<memory at 0x00000249409EE790>"
      ]
     },
     "execution_count": 25,
     "metadata": {},
     "output_type": "execute_result"
    }
   ],
   "source": [
    "arr2.data"
   ]
  },
  {
   "cell_type": "markdown",
   "id": "f50930f0",
   "metadata": {},
   "source": [
    "### Some Statistics About the Arrays"
   ]
  },
  {
   "cell_type": "markdown",
   "id": "e2bd3bf5",
   "metadata": {},
   "source": [
    "#### Show 50th percentile of arr2"
   ]
  },
  {
   "cell_type": "code",
   "execution_count": 26,
   "id": "cf2ff1b6",
   "metadata": {},
   "outputs": [
    {
     "data": {
      "text/plain": [
       "7.5"
      ]
     },
     "execution_count": 26,
     "metadata": {},
     "output_type": "execute_result"
    }
   ],
   "source": [
    "\n",
    "np.percentile(arr2, 50) #outout = 7.5 not 6.5"
   ]
  },
  {
   "cell_type": "markdown",
   "id": "b94b76aa",
   "metadata": {},
   "source": [
    "#### Show mean of arr2 elements"
   ]
  },
  {
   "cell_type": "code",
   "execution_count": 27,
   "id": "26ebc870",
   "metadata": {},
   "outputs": [
    {
     "data": {
      "text/plain": [
       "7.5"
      ]
     },
     "execution_count": 27,
     "metadata": {},
     "output_type": "execute_result"
    }
   ],
   "source": [
    "np.mean(arr2) #output 7,5 not 6,9375"
   ]
  },
  {
   "cell_type": "markdown",
   "id": "1ab10d37",
   "metadata": {},
   "source": [
    "#### Show median of arr2 elements"
   ]
  },
  {
   "cell_type": "code",
   "execution_count": 28,
   "id": "973b1ff7",
   "metadata": {},
   "outputs": [
    {
     "data": {
      "text/plain": [
       "7.5"
      ]
     },
     "execution_count": 28,
     "metadata": {},
     "output_type": "execute_result"
    }
   ],
   "source": [
    "np.median(arr2) #output 7,5 not 6,5"
   ]
  },
  {
   "cell_type": "markdown",
   "id": "7040730d",
   "metadata": {},
   "source": [
    "##### Create one dimensional normally distrubuted array with mean 3 standard deviation is 4 and has elements of 100"
   ]
  },
  {
   "cell_type": "code",
   "execution_count": 60,
   "id": "5e246a9f",
   "metadata": {},
   "outputs": [
    {
     "data": {
      "text/plain": [
       "array([ 1.06283497e+00,  6.00431707e+00,  4.30047249e+00, -6.59864524e-01,\n",
       "        7.20593636e+00, -1.73093936e+00,  5.22934823e+00,  4.23633175e+00,\n",
       "        7.91116236e+00, -6.47453528e-03,  9.45699148e-01,  4.33132106e+00,\n",
       "        4.22580965e+00,  4.57198703e+00, -6.86052084e+00,  3.00608162e+00,\n",
       "        3.83722597e+00,  3.16921670e+00,  4.73775952e+00, -1.34996688e-01,\n",
       "        1.96903171e+00, -6.37747978e-01,  5.05895675e+00,  1.17146441e+01,\n",
       "        2.37412694e+00, -3.12482623e-01,  1.29340109e+01,  4.17640887e+00,\n",
       "        1.14071857e+00,  5.90326721e+00,  1.70119068e+00, -1.15809674e+00,\n",
       "        3.96275037e+00,  7.33669293e+00,  5.16021798e+00,  6.28937035e+00,\n",
       "        4.54327023e+00,  5.83688901e+00,  6.19763778e+00,  7.37351040e+00,\n",
       "       -1.31508477e+00,  1.04079585e-01, -9.78938466e-01,  6.48930851e+00,\n",
       "        3.40983787e+00,  3.50313208e+00,  7.81641023e-01,  1.13766355e+01,\n",
       "        9.48608078e+00,  1.38457507e+00,  6.48064593e+00,  5.28893107e+00,\n",
       "       -1.70235538e+00,  3.34585153e+00,  3.61343967e+00, -5.54655269e-01,\n",
       "        3.08255982e+00,  1.02921899e+01,  9.82064727e+00,  1.25339789e+01,\n",
       "        4.34646761e+00, -2.59382484e+00,  7.31715048e+00,  5.32420314e+00,\n",
       "        8.58106505e+00, -2.05565612e-02, -2.43367923e+00,  6.06849737e+00,\n",
       "        3.59195103e+00,  5.28840452e+00,  3.64378457e+00,  6.51595742e+00,\n",
       "        5.10505862e+00,  7.14396175e-01,  1.32108719e-01,  3.89070168e-01,\n",
       "       -6.18735418e+00, -2.58882788e+00, -2.06839583e+00,  4.17077088e+00,\n",
       "        1.57369417e+00,  6.96384407e-01,  3.11788184e+00,  2.05371466e+00,\n",
       "        1.70040456e+00,  3.91683137e+00,  3.21533845e+00,  1.39527566e+00,\n",
       "        3.54646140e+00,  3.21184432e+00,  1.52109471e+00, -4.20763468e+00,\n",
       "       -1.56841970e+00,  7.11199112e+00,  2.90750429e+00,  5.07562439e+00,\n",
       "        8.63641603e-01,  6.12281844e+00,  8.37801579e+00,  3.53267490e+00])"
      ]
     },
     "execution_count": 60,
     "metadata": {},
     "output_type": "execute_result"
    }
   ],
   "source": [
    "s = np.random.normal(3,4,100)\n",
    "s"
   ]
  },
  {
   "cell_type": "markdown",
   "id": "5320324e",
   "metadata": {},
   "source": [
    "#### Install matplotlib library for ploting purposes and then plot the s \n",
    "- search to find how to do"
   ]
  },
  {
   "cell_type": "code",
   "execution_count": 61,
   "id": "a8ca4a2e",
   "metadata": {},
   "outputs": [
    {
     "data": {
      "text/plain": [
       "(array([ 2.,  1., 10., 15., 13., 26., 18.,  8.,  3.,  4.]),\n",
       " array([-6.86052084, -4.88106767, -2.9016145 , -0.92216133,  1.05729184,\n",
       "         3.03674501,  5.01619817,  6.99565134,  8.97510451, 10.95455768,\n",
       "        12.93401085]),\n",
       " <BarContainer object of 10 artists>)"
      ]
     },
     "execution_count": 61,
     "metadata": {},
     "output_type": "execute_result"
    },
    {
     "data": {
      "image/png": "[encoded data removed]",
      "text/plain": [
       "<Figure size 640x480 with 1 Axes>"
      ]
     },
     "metadata": {},
     "output_type": "display_data"
    }
   ],
   "source": [
    "import matplotlib.pyplot as plt\n",
    "\n",
    "# Plot the array\n",
    "plt.hist(s)\n"
   ]
  },
  {
   "cell_type": "markdown",
   "id": "f0ba30ab",
   "metadata": {},
   "source": [
    "____"
   ]
  },
  {
   "cell_type": "markdown",
   "id": "25f032d0",
   "metadata": {},
   "source": [
    "# Learning Pandas"
   ]
  },
  {
   "cell_type": "markdown",
   "id": "d2a96de4",
   "metadata": {},
   "source": [
    "##### Read the airline safety data assign to df variable and print first 5 rows with pandas function"
   ]
  },
  {
   "cell_type": "code",
   "execution_count": 3,
   "id": "d19327ef",
   "metadata": {},
   "outputs": [],
   "source": [
    "import pandas as pd "
   ]
  },
  {
   "cell_type": "code",
   "execution_count": 5,
   "id": "45471ae7",
   "metadata": {},
   "outputs": [
    {
     "data": {
      "text/html": [
       "<div>\n",
       "<style scoped>\n",
       "    .dataframe tbody tr th:only-of-type {\n",
       "        vertical-align: middle;\n",
       "    }\n",
       "\n",
       "    .dataframe tbody tr th {\n",
       "        vertical-align: top;\n",
       "    }\n",
       "\n",
       "    .dataframe thead th {\n",
       "        text-align: right;\n",
       "    }\n",
       "</style>\n",
       "<table border=\"1\" class=\"dataframe\">\n",
       "  <thead>\n",
       "    <tr style=\"text-align: right;\">\n",
       "      <th></th>\n",
       "      <th>airline</th>\n",
       "      <th>avail_seat_km_per_week</th>\n",
       "      <th>incidents_85_99</th>\n",
       "      <th>fatal_accidents_85_99</th>\n",
       "      <th>fatalities_85_99</th>\n",
       "      <th>incidents_00_14</th>\n",
       "      <th>fatal_accidents_00_14</th>\n",
       "      <th>fatalities_00_14</th>\n",
       "    </tr>\n",
       "  </thead>\n",
       "  <tbody>\n",
       "    <tr>\n",
       "      <th>0</th>\n",
       "      <td>Aer Lingus</td>\n",
       "      <td>320906734</td>\n",
       "      <td>2</td>\n",
       "      <td>0</td>\n",
       "      <td>0</td>\n",
       "      <td>0</td>\n",
       "      <td>0</td>\n",
       "      <td>0</td>\n",
       "    </tr>\n",
       "    <tr>\n",
       "      <th>1</th>\n",
       "      <td>Aeroflot*</td>\n",
       "      <td>1197672318</td>\n",
       "      <td>76</td>\n",
       "      <td>14</td>\n",
       "      <td>128</td>\n",
       "      <td>6</td>\n",
       "      <td>1</td>\n",
       "      <td>88</td>\n",
       "    </tr>\n",
       "    <tr>\n",
       "      <th>2</th>\n",
       "      <td>Aerolineas Argentinas</td>\n",
       "      <td>385803648</td>\n",
       "      <td>6</td>\n",
       "      <td>0</td>\n",
       "      <td>0</td>\n",
       "      <td>1</td>\n",
       "      <td>0</td>\n",
       "      <td>0</td>\n",
       "    </tr>\n",
       "    <tr>\n",
       "      <th>3</th>\n",
       "      <td>Aeromexico*</td>\n",
       "      <td>596871813</td>\n",
       "      <td>3</td>\n",
       "      <td>1</td>\n",
       "      <td>64</td>\n",
       "      <td>5</td>\n",
       "      <td>0</td>\n",
       "      <td>0</td>\n",
       "    </tr>\n",
       "    <tr>\n",
       "      <th>4</th>\n",
       "      <td>Air Canada</td>\n",
       "      <td>1865253802</td>\n",
       "      <td>2</td>\n",
       "      <td>0</td>\n",
       "      <td>0</td>\n",
       "      <td>2</td>\n",
       "      <td>0</td>\n",
       "      <td>0</td>\n",
       "    </tr>\n",
       "    <tr>\n",
       "      <th>5</th>\n",
       "      <td>Air France</td>\n",
       "      <td>3004002661</td>\n",
       "      <td>14</td>\n",
       "      <td>4</td>\n",
       "      <td>79</td>\n",
       "      <td>6</td>\n",
       "      <td>2</td>\n",
       "      <td>337</td>\n",
       "    </tr>\n",
       "    <tr>\n",
       "      <th>6</th>\n",
       "      <td>Air India*</td>\n",
       "      <td>869253552</td>\n",
       "      <td>2</td>\n",
       "      <td>1</td>\n",
       "      <td>329</td>\n",
       "      <td>4</td>\n",
       "      <td>1</td>\n",
       "      <td>158</td>\n",
       "    </tr>\n",
       "    <tr>\n",
       "      <th>7</th>\n",
       "      <td>Air New Zealand*</td>\n",
       "      <td>710174817</td>\n",
       "      <td>3</td>\n",
       "      <td>0</td>\n",
       "      <td>0</td>\n",
       "      <td>5</td>\n",
       "      <td>1</td>\n",
       "      <td>7</td>\n",
       "    </tr>\n",
       "    <tr>\n",
       "      <th>8</th>\n",
       "      <td>Alaska Airlines*</td>\n",
       "      <td>965346773</td>\n",
       "      <td>5</td>\n",
       "      <td>0</td>\n",
       "      <td>0</td>\n",
       "      <td>5</td>\n",
       "      <td>1</td>\n",
       "      <td>88</td>\n",
       "    </tr>\n",
       "    <tr>\n",
       "      <th>9</th>\n",
       "      <td>Alitalia</td>\n",
       "      <td>698012498</td>\n",
       "      <td>7</td>\n",
       "      <td>2</td>\n",
       "      <td>50</td>\n",
       "      <td>4</td>\n",
       "      <td>0</td>\n",
       "      <td>0</td>\n",
       "    </tr>\n",
       "    <tr>\n",
       "      <th>10</th>\n",
       "      <td>All Nippon Airways</td>\n",
       "      <td>1841234177</td>\n",
       "      <td>3</td>\n",
       "      <td>1</td>\n",
       "      <td>1</td>\n",
       "      <td>7</td>\n",
       "      <td>0</td>\n",
       "      <td>0</td>\n",
       "    </tr>\n",
       "    <tr>\n",
       "      <th>11</th>\n",
       "      <td>American*</td>\n",
       "      <td>5228357340</td>\n",
       "      <td>21</td>\n",
       "      <td>5</td>\n",
       "      <td>101</td>\n",
       "      <td>17</td>\n",
       "      <td>3</td>\n",
       "      <td>416</td>\n",
       "    </tr>\n",
       "    <tr>\n",
       "      <th>12</th>\n",
       "      <td>Austrian Airlines</td>\n",
       "      <td>358239823</td>\n",
       "      <td>1</td>\n",
       "      <td>0</td>\n",
       "      <td>0</td>\n",
       "      <td>1</td>\n",
       "      <td>0</td>\n",
       "      <td>0</td>\n",
       "    </tr>\n",
       "    <tr>\n",
       "      <th>13</th>\n",
       "      <td>Avianca</td>\n",
       "      <td>396922563</td>\n",
       "      <td>5</td>\n",
       "      <td>3</td>\n",
       "      <td>323</td>\n",
       "      <td>0</td>\n",
       "      <td>0</td>\n",
       "      <td>0</td>\n",
       "    </tr>\n",
       "    <tr>\n",
       "      <th>14</th>\n",
       "      <td>British Airways*</td>\n",
       "      <td>3179760952</td>\n",
       "      <td>4</td>\n",
       "      <td>0</td>\n",
       "      <td>0</td>\n",
       "      <td>6</td>\n",
       "      <td>0</td>\n",
       "      <td>0</td>\n",
       "    </tr>\n",
       "    <tr>\n",
       "      <th>15</th>\n",
       "      <td>Cathay Pacific*</td>\n",
       "      <td>2582459303</td>\n",
       "      <td>0</td>\n",
       "      <td>0</td>\n",
       "      <td>0</td>\n",
       "      <td>2</td>\n",
       "      <td>0</td>\n",
       "      <td>0</td>\n",
       "    </tr>\n",
       "    <tr>\n",
       "      <th>16</th>\n",
       "      <td>China Airlines</td>\n",
       "      <td>813216487</td>\n",
       "      <td>12</td>\n",
       "      <td>6</td>\n",
       "      <td>535</td>\n",
       "      <td>2</td>\n",
       "      <td>1</td>\n",
       "      <td>225</td>\n",
       "    </tr>\n",
       "    <tr>\n",
       "      <th>17</th>\n",
       "      <td>Condor</td>\n",
       "      <td>417982610</td>\n",
       "      <td>2</td>\n",
       "      <td>1</td>\n",
       "      <td>16</td>\n",
       "      <td>0</td>\n",
       "      <td>0</td>\n",
       "      <td>0</td>\n",
       "    </tr>\n",
       "    <tr>\n",
       "      <th>18</th>\n",
       "      <td>COPA</td>\n",
       "      <td>550491507</td>\n",
       "      <td>3</td>\n",
       "      <td>1</td>\n",
       "      <td>47</td>\n",
       "      <td>0</td>\n",
       "      <td>0</td>\n",
       "      <td>0</td>\n",
       "    </tr>\n",
       "    <tr>\n",
       "      <th>19</th>\n",
       "      <td>Delta / Northwest*</td>\n",
       "      <td>6525658894</td>\n",
       "      <td>24</td>\n",
       "      <td>12</td>\n",
       "      <td>407</td>\n",
       "      <td>24</td>\n",
       "      <td>2</td>\n",
       "      <td>51</td>\n",
       "    </tr>\n",
       "    <tr>\n",
       "      <th>20</th>\n",
       "      <td>Egyptair</td>\n",
       "      <td>557699891</td>\n",
       "      <td>8</td>\n",
       "      <td>3</td>\n",
       "      <td>282</td>\n",
       "      <td>4</td>\n",
       "      <td>1</td>\n",
       "      <td>14</td>\n",
       "    </tr>\n",
       "    <tr>\n",
       "      <th>21</th>\n",
       "      <td>El Al</td>\n",
       "      <td>335448023</td>\n",
       "      <td>1</td>\n",
       "      <td>1</td>\n",
       "      <td>4</td>\n",
       "      <td>1</td>\n",
       "      <td>0</td>\n",
       "      <td>0</td>\n",
       "    </tr>\n",
       "    <tr>\n",
       "      <th>22</th>\n",
       "      <td>Ethiopian Airlines</td>\n",
       "      <td>488560643</td>\n",
       "      <td>25</td>\n",
       "      <td>5</td>\n",
       "      <td>167</td>\n",
       "      <td>5</td>\n",
       "      <td>2</td>\n",
       "      <td>92</td>\n",
       "    </tr>\n",
       "    <tr>\n",
       "      <th>23</th>\n",
       "      <td>Finnair</td>\n",
       "      <td>506464950</td>\n",
       "      <td>1</td>\n",
       "      <td>0</td>\n",
       "      <td>0</td>\n",
       "      <td>0</td>\n",
       "      <td>0</td>\n",
       "      <td>0</td>\n",
       "    </tr>\n",
       "    <tr>\n",
       "      <th>24</th>\n",
       "      <td>Garuda Indonesia</td>\n",
       "      <td>613356665</td>\n",
       "      <td>10</td>\n",
       "      <td>3</td>\n",
       "      <td>260</td>\n",
       "      <td>4</td>\n",
       "      <td>2</td>\n",
       "      <td>22</td>\n",
       "    </tr>\n",
       "    <tr>\n",
       "      <th>25</th>\n",
       "      <td>Gulf Air</td>\n",
       "      <td>301379762</td>\n",
       "      <td>1</td>\n",
       "      <td>0</td>\n",
       "      <td>0</td>\n",
       "      <td>3</td>\n",
       "      <td>1</td>\n",
       "      <td>143</td>\n",
       "    </tr>\n",
       "    <tr>\n",
       "      <th>26</th>\n",
       "      <td>Hawaiian Airlines</td>\n",
       "      <td>493877795</td>\n",
       "      <td>0</td>\n",
       "      <td>0</td>\n",
       "      <td>0</td>\n",
       "      <td>1</td>\n",
       "      <td>0</td>\n",
       "      <td>0</td>\n",
       "    </tr>\n",
       "    <tr>\n",
       "      <th>27</th>\n",
       "      <td>Iberia</td>\n",
       "      <td>1173203126</td>\n",
       "      <td>4</td>\n",
       "      <td>1</td>\n",
       "      <td>148</td>\n",
       "      <td>5</td>\n",
       "      <td>0</td>\n",
       "      <td>0</td>\n",
       "    </tr>\n",
       "    <tr>\n",
       "      <th>28</th>\n",
       "      <td>Japan Airlines</td>\n",
       "      <td>1574217531</td>\n",
       "      <td>3</td>\n",
       "      <td>1</td>\n",
       "      <td>520</td>\n",
       "      <td>0</td>\n",
       "      <td>0</td>\n",
       "      <td>0</td>\n",
       "    </tr>\n",
       "    <tr>\n",
       "      <th>29</th>\n",
       "      <td>Kenya Airways</td>\n",
       "      <td>277414794</td>\n",
       "      <td>2</td>\n",
       "      <td>0</td>\n",
       "      <td>0</td>\n",
       "      <td>2</td>\n",
       "      <td>2</td>\n",
       "      <td>283</td>\n",
       "    </tr>\n",
       "    <tr>\n",
       "      <th>30</th>\n",
       "      <td>KLM*</td>\n",
       "      <td>1874561773</td>\n",
       "      <td>7</td>\n",
       "      <td>1</td>\n",
       "      <td>3</td>\n",
       "      <td>1</td>\n",
       "      <td>0</td>\n",
       "      <td>0</td>\n",
       "    </tr>\n",
       "    <tr>\n",
       "      <th>31</th>\n",
       "      <td>Korean Air</td>\n",
       "      <td>1734522605</td>\n",
       "      <td>12</td>\n",
       "      <td>5</td>\n",
       "      <td>425</td>\n",
       "      <td>1</td>\n",
       "      <td>0</td>\n",
       "      <td>0</td>\n",
       "    </tr>\n",
       "    <tr>\n",
       "      <th>32</th>\n",
       "      <td>LAN Airlines</td>\n",
       "      <td>1001965891</td>\n",
       "      <td>3</td>\n",
       "      <td>2</td>\n",
       "      <td>21</td>\n",
       "      <td>0</td>\n",
       "      <td>0</td>\n",
       "      <td>0</td>\n",
       "    </tr>\n",
       "    <tr>\n",
       "      <th>33</th>\n",
       "      <td>Lufthansa*</td>\n",
       "      <td>3426529504</td>\n",
       "      <td>6</td>\n",
       "      <td>1</td>\n",
       "      <td>2</td>\n",
       "      <td>3</td>\n",
       "      <td>0</td>\n",
       "      <td>0</td>\n",
       "    </tr>\n",
       "    <tr>\n",
       "      <th>34</th>\n",
       "      <td>Malaysia Airlines</td>\n",
       "      <td>1039171244</td>\n",
       "      <td>3</td>\n",
       "      <td>1</td>\n",
       "      <td>34</td>\n",
       "      <td>3</td>\n",
       "      <td>2</td>\n",
       "      <td>537</td>\n",
       "    </tr>\n",
       "    <tr>\n",
       "      <th>35</th>\n",
       "      <td>Pakistan International</td>\n",
       "      <td>348563137</td>\n",
       "      <td>8</td>\n",
       "      <td>3</td>\n",
       "      <td>234</td>\n",
       "      <td>10</td>\n",
       "      <td>2</td>\n",
       "      <td>46</td>\n",
       "    </tr>\n",
       "    <tr>\n",
       "      <th>36</th>\n",
       "      <td>Philippine Airlines</td>\n",
       "      <td>413007158</td>\n",
       "      <td>7</td>\n",
       "      <td>4</td>\n",
       "      <td>74</td>\n",
       "      <td>2</td>\n",
       "      <td>1</td>\n",
       "      <td>1</td>\n",
       "    </tr>\n",
       "    <tr>\n",
       "      <th>37</th>\n",
       "      <td>Qantas*</td>\n",
       "      <td>1917428984</td>\n",
       "      <td>1</td>\n",
       "      <td>0</td>\n",
       "      <td>0</td>\n",
       "      <td>5</td>\n",
       "      <td>0</td>\n",
       "      <td>0</td>\n",
       "    </tr>\n",
       "    <tr>\n",
       "      <th>38</th>\n",
       "      <td>Royal Air Maroc</td>\n",
       "      <td>295705339</td>\n",
       "      <td>5</td>\n",
       "      <td>3</td>\n",
       "      <td>51</td>\n",
       "      <td>3</td>\n",
       "      <td>0</td>\n",
       "      <td>0</td>\n",
       "    </tr>\n",
       "    <tr>\n",
       "      <th>39</th>\n",
       "      <td>SAS*</td>\n",
       "      <td>682971852</td>\n",
       "      <td>5</td>\n",
       "      <td>0</td>\n",
       "      <td>0</td>\n",
       "      <td>6</td>\n",
       "      <td>1</td>\n",
       "      <td>110</td>\n",
       "    </tr>\n",
       "    <tr>\n",
       "      <th>40</th>\n",
       "      <td>Saudi Arabian</td>\n",
       "      <td>859673901</td>\n",
       "      <td>7</td>\n",
       "      <td>2</td>\n",
       "      <td>313</td>\n",
       "      <td>11</td>\n",
       "      <td>0</td>\n",
       "      <td>0</td>\n",
       "    </tr>\n",
       "    <tr>\n",
       "      <th>41</th>\n",
       "      <td>Singapore Airlines</td>\n",
       "      <td>2376857805</td>\n",
       "      <td>2</td>\n",
       "      <td>2</td>\n",
       "      <td>6</td>\n",
       "      <td>2</td>\n",
       "      <td>1</td>\n",
       "      <td>83</td>\n",
       "    </tr>\n",
       "    <tr>\n",
       "      <th>42</th>\n",
       "      <td>South African</td>\n",
       "      <td>651502442</td>\n",
       "      <td>2</td>\n",
       "      <td>1</td>\n",
       "      <td>159</td>\n",
       "      <td>1</td>\n",
       "      <td>0</td>\n",
       "      <td>0</td>\n",
       "    </tr>\n",
       "    <tr>\n",
       "      <th>43</th>\n",
       "      <td>Southwest Airlines</td>\n",
       "      <td>3276525770</td>\n",
       "      <td>1</td>\n",
       "      <td>0</td>\n",
       "      <td>0</td>\n",
       "      <td>8</td>\n",
       "      <td>0</td>\n",
       "      <td>0</td>\n",
       "    </tr>\n",
       "    <tr>\n",
       "      <th>44</th>\n",
       "      <td>Sri Lankan / AirLanka</td>\n",
       "      <td>325582976</td>\n",
       "      <td>2</td>\n",
       "      <td>1</td>\n",
       "      <td>14</td>\n",
       "      <td>4</td>\n",
       "      <td>0</td>\n",
       "      <td>0</td>\n",
       "    </tr>\n",
       "    <tr>\n",
       "      <th>45</th>\n",
       "      <td>SWISS*</td>\n",
       "      <td>792601299</td>\n",
       "      <td>2</td>\n",
       "      <td>1</td>\n",
       "      <td>229</td>\n",
       "      <td>3</td>\n",
       "      <td>0</td>\n",
       "      <td>0</td>\n",
       "    </tr>\n",
       "    <tr>\n",
       "      <th>46</th>\n",
       "      <td>TACA</td>\n",
       "      <td>259373346</td>\n",
       "      <td>3</td>\n",
       "      <td>1</td>\n",
       "      <td>3</td>\n",
       "      <td>1</td>\n",
       "      <td>1</td>\n",
       "      <td>3</td>\n",
       "    </tr>\n",
       "    <tr>\n",
       "      <th>47</th>\n",
       "      <td>TAM</td>\n",
       "      <td>1509195646</td>\n",
       "      <td>8</td>\n",
       "      <td>3</td>\n",
       "      <td>98</td>\n",
       "      <td>7</td>\n",
       "      <td>2</td>\n",
       "      <td>188</td>\n",
       "    </tr>\n",
       "    <tr>\n",
       "      <th>48</th>\n",
       "      <td>TAP - Air Portugal</td>\n",
       "      <td>619130754</td>\n",
       "      <td>0</td>\n",
       "      <td>0</td>\n",
       "      <td>0</td>\n",
       "      <td>0</td>\n",
       "      <td>0</td>\n",
       "      <td>0</td>\n",
       "    </tr>\n",
       "    <tr>\n",
       "      <th>49</th>\n",
       "      <td>Thai Airways</td>\n",
       "      <td>1702802250</td>\n",
       "      <td>8</td>\n",
       "      <td>4</td>\n",
       "      <td>308</td>\n",
       "      <td>2</td>\n",
       "      <td>1</td>\n",
       "      <td>1</td>\n",
       "    </tr>\n",
       "    <tr>\n",
       "      <th>50</th>\n",
       "      <td>Turkish Airlines</td>\n",
       "      <td>1946098294</td>\n",
       "      <td>8</td>\n",
       "      <td>3</td>\n",
       "      <td>64</td>\n",
       "      <td>8</td>\n",
       "      <td>2</td>\n",
       "      <td>84</td>\n",
       "    </tr>\n",
       "    <tr>\n",
       "      <th>51</th>\n",
       "      <td>United / Continental*</td>\n",
       "      <td>7139291291</td>\n",
       "      <td>19</td>\n",
       "      <td>8</td>\n",
       "      <td>319</td>\n",
       "      <td>14</td>\n",
       "      <td>2</td>\n",
       "      <td>109</td>\n",
       "    </tr>\n",
       "    <tr>\n",
       "      <th>52</th>\n",
       "      <td>US Airways / America West*</td>\n",
       "      <td>2455687887</td>\n",
       "      <td>16</td>\n",
       "      <td>7</td>\n",
       "      <td>224</td>\n",
       "      <td>11</td>\n",
       "      <td>2</td>\n",
       "      <td>23</td>\n",
       "    </tr>\n",
       "    <tr>\n",
       "      <th>53</th>\n",
       "      <td>Vietnam Airlines</td>\n",
       "      <td>625084918</td>\n",
       "      <td>7</td>\n",
       "      <td>3</td>\n",
       "      <td>171</td>\n",
       "      <td>1</td>\n",
       "      <td>0</td>\n",
       "      <td>0</td>\n",
       "    </tr>\n",
       "    <tr>\n",
       "      <th>54</th>\n",
       "      <td>Virgin Atlantic</td>\n",
       "      <td>1005248585</td>\n",
       "      <td>1</td>\n",
       "      <td>0</td>\n",
       "      <td>0</td>\n",
       "      <td>0</td>\n",
       "      <td>0</td>\n",
       "      <td>0</td>\n",
       "    </tr>\n",
       "    <tr>\n",
       "      <th>55</th>\n",
       "      <td>Xiamen Airlines</td>\n",
       "      <td>430462962</td>\n",
       "      <td>9</td>\n",
       "      <td>1</td>\n",
       "      <td>82</td>\n",
       "      <td>2</td>\n",
       "      <td>0</td>\n",
       "      <td>0</td>\n",
       "    </tr>\n",
       "  </tbody>\n",
       "</table>\n",
       "</div>"
      ],
      "text/plain": [
       "                       airline  avail_seat_km_per_week  incidents_85_99  \\\n",
       "0                   Aer Lingus               320906734                2   \n",
       "1                    Aeroflot*              1197672318               76   \n",
       "2        Aerolineas Argentinas               385803648                6   \n",
       "3                  Aeromexico*               596871813                3   \n",
       "4                   Air Canada              1865253802                2   \n",
       "5                   Air France              3004002661               14   \n",
       "6                   Air India*               869253552                2   \n",
       "7             Air New Zealand*               710174817                3   \n",
       "8             Alaska Airlines*               965346773                5   \n",
       "9                     Alitalia               698012498                7   \n",
       "10          All Nippon Airways              1841234177                3   \n",
       "11                   American*              5228357340               21   \n",
       "12           Austrian Airlines               358239823                1   \n",
       "13                     Avianca               396922563                5   \n",
       "14            British Airways*              3179760952                4   \n",
       "15             Cathay Pacific*              2582459303                0   \n",
       "16              China Airlines               813216487               12   \n",
       "17                      Condor               417982610                2   \n",
       "18                        COPA               550491507                3   \n",
       "19          Delta / Northwest*              6525658894               24   \n",
       "20                    Egyptair               557699891                8   \n",
       "21                       El Al               335448023                1   \n",
       "22          Ethiopian Airlines               488560643               25   \n",
       "23                     Finnair               506464950                1   \n",
       "24            Garuda Indonesia               613356665               10   \n",
       "25                    Gulf Air               301379762                1   \n",
       "26           Hawaiian Airlines               493877795                0   \n",
       "27                      Iberia              1173203126                4   \n",
       "28              Japan Airlines              1574217531                3   \n",
       "29               Kenya Airways               277414794                2   \n",
       "30                        KLM*              1874561773                7   \n",
       "31                  Korean Air              1734522605               12   \n",
       "32                LAN Airlines              1001965891                3   \n",
       "33                  Lufthansa*              3426529504                6   \n",
       "34           Malaysia Airlines              1039171244                3   \n",
       "35      Pakistan International               348563137                8   \n",
       "36         Philippine Airlines               413007158                7   \n",
       "37                     Qantas*              1917428984                1   \n",
       "38             Royal Air Maroc               295705339                5   \n",
       "39                        SAS*               682971852                5   \n",
       "40               Saudi Arabian               859673901                7   \n",
       "41          Singapore Airlines              2376857805                2   \n",
       "42               South African               651502442                2   \n",
       "43          Southwest Airlines              3276525770                1   \n",
       "44       Sri Lankan / AirLanka               325582976                2   \n",
       "45                      SWISS*               792601299                2   \n",
       "46                        TACA               259373346                3   \n",
       "47                         TAM              1509195646                8   \n",
       "48          TAP - Air Portugal               619130754                0   \n",
       "49                Thai Airways              1702802250                8   \n",
       "50            Turkish Airlines              1946098294                8   \n",
       "51       United / Continental*              7139291291               19   \n",
       "52  US Airways / America West*              2455687887               16   \n",
       "53            Vietnam Airlines               625084918                7   \n",
       "54             Virgin Atlantic              1005248585                1   \n",
       "55             Xiamen Airlines               430462962                9   \n",
       "\n",
       "    fatal_accidents_85_99  fatalities_85_99  incidents_00_14  \\\n",
       "0                       0                 0                0   \n",
       "1                      14               128                6   \n",
       "2                       0                 0                1   \n",
       "3                       1                64                5   \n",
       "4                       0                 0                2   \n",
       "5                       4                79                6   \n",
       "6                       1               329                4   \n",
       "7                       0                 0                5   \n",
       "8                       0                 0                5   \n",
       "9                       2                50                4   \n",
       "10                      1                 1                7   \n",
       "11                      5               101               17   \n",
       "12                      0                 0                1   \n",
       "13                      3               323                0   \n",
       "14                      0                 0                6   \n",
       "15                      0                 0                2   \n",
       "16                      6               535                2   \n",
       "17                      1                16                0   \n",
       "18                      1                47                0   \n",
       "19                     12               407               24   \n",
       "20                      3               282                4   \n",
       "21                      1                 4                1   \n",
       "22                      5               167                5   \n",
       "23                      0                 0                0   \n",
       "24                      3               260                4   \n",
       "25                      0                 0                3   \n",
       "26                      0                 0                1   \n",
       "27                      1               148                5   \n",
       "28                      1               520                0   \n",
       "29                      0                 0                2   \n",
       "30                      1                 3                1   \n",
       "31                      5               425                1   \n",
       "32                      2                21                0   \n",
       "33                      1                 2                3   \n",
       "34                      1                34                3   \n",
       "35                      3               234               10   \n",
       "36                      4                74                2   \n",
       "37                      0                 0                5   \n",
       "38                      3                51                3   \n",
       "39                      0                 0                6   \n",
       "40                      2               313               11   \n",
       "41                      2                 6                2   \n",
       "42                      1               159                1   \n",
       "43                      0                 0                8   \n",
       "44                      1                14                4   \n",
       "45                      1               229                3   \n",
       "46                      1                 3                1   \n",
       "47                      3                98                7   \n",
       "48                      0                 0                0   \n",
       "49                      4               308                2   \n",
       "50                      3                64                8   \n",
       "51                      8               319               14   \n",
       "52                      7               224               11   \n",
       "53                      3               171                1   \n",
       "54                      0                 0                0   \n",
       "55                      1                82                2   \n",
       "\n",
       "    fatal_accidents_00_14  fatalities_00_14  \n",
       "0                       0                 0  \n",
       "1                       1                88  \n",
       "2                       0                 0  \n",
       "3                       0                 0  \n",
       "4                       0                 0  \n",
       "5                       2               337  \n",
       "6                       1               158  \n",
       "7                       1                 7  \n",
       "8                       1                88  \n",
       "9                       0                 0  \n",
       "10                      0                 0  \n",
       "11                      3               416  \n",
       "12                      0                 0  \n",
       "13                      0                 0  \n",
       "14                      0                 0  \n",
       "15                      0                 0  \n",
       "16                      1               225  \n",
       "17                      0                 0  \n",
       "18                      0                 0  \n",
       "19                      2                51  \n",
       "20                      1                14  \n",
       "21                      0                 0  \n",
       "22                      2                92  \n",
       "23                      0                 0  \n",
       "24                      2                22  \n",
       "25                      1               143  \n",
       "26                      0                 0  \n",
       "27                      0                 0  \n",
       "28                      0                 0  \n",
       "29                      2               283  \n",
       "30                      0                 0  \n",
       "31                      0                 0  \n",
       "32                      0                 0  \n",
       "33                      0                 0  \n",
       "34                      2               537  \n",
       "35                      2                46  \n",
       "36                      1                 1  \n",
       "37                      0                 0  \n",
       "38                      0                 0  \n",
       "39                      1               110  \n",
       "40                      0                 0  \n",
       "41                      1                83  \n",
       "42                      0                 0  \n",
       "43                      0                 0  \n",
       "44                      0                 0  \n",
       "45                      0                 0  \n",
       "46                      1                 3  \n",
       "47                      2               188  \n",
       "48                      0                 0  \n",
       "49                      1                 1  \n",
       "50                      2                84  \n",
       "51                      2               109  \n",
       "52                      2                23  \n",
       "53                      0                 0  \n",
       "54                      0                 0  \n",
       "55                      0                 0  "
      ]
     },
     "metadata": {},
     "output_type": "display_data"
    }
   ],
   "source": [
    "airline_safety = pd.read_csv('C:\\\\Users\\\\Christos\\\\Desktop\\\\___numpy-pandas-exercises.zip___1665998822272\\\\numpy-pandas-exercises\\\\airline-safety.csv')\n",
    "display(airline_safety)"
   ]
  },
  {
   "cell_type": "markdown",
   "id": "4f9a8367",
   "metadata": {},
   "source": [
    "##### print last 5 rows with pandas function"
   ]
  },
  {
   "cell_type": "code",
   "execution_count": 9,
   "id": "7aad0e59",
   "metadata": {},
   "outputs": [
    {
     "name": "stdout",
     "output_type": "stream",
     "text": [
      "                 airline  avail_seat_km_per_week  incidents_85_99  \\\n",
      "0             Aer Lingus               320906734                2   \n",
      "1              Aeroflot*              1197672318               76   \n",
      "2  Aerolineas Argentinas               385803648                6   \n",
      "3            Aeromexico*               596871813                3   \n",
      "4             Air Canada              1865253802                2   \n",
      "\n",
      "   fatal_accidents_85_99  fatalities_85_99  incidents_00_14  \\\n",
      "0                      0                 0                0   \n",
      "1                     14               128                6   \n",
      "2                      0                 0                1   \n",
      "3                      1                64                5   \n",
      "4                      0                 0                2   \n",
      "\n",
      "   fatal_accidents_00_14  fatalities_00_14  \n",
      "0                      0                 0  \n",
      "1                      1                88  \n",
      "2                      0                 0  \n",
      "3                      0                 0  \n",
      "4                      0                 0  \n"
     ]
    }
   ],
   "source": [
    "print(airline_safety.head(5))"
   ]
  },
  {
   "cell_type": "markdown",
   "id": "9c9ef7db",
   "metadata": {},
   "source": [
    "##### Show shape of df"
   ]
  },
  {
   "cell_type": "code",
   "execution_count": 10,
   "id": "e9d19c7a",
   "metadata": {},
   "outputs": [
    {
     "name": "stdout",
     "output_type": "stream",
     "text": [
      "(56, 8)\n"
     ]
    }
   ],
   "source": [
    "print(airline_safety.shape)"
   ]
  },
  {
   "cell_type": "markdown",
   "id": "29b6bcdb",
   "metadata": {},
   "source": [
    "##### Show descriptive statistics of df"
   ]
  },
  {
   "cell_type": "code",
   "execution_count": 11,
   "id": "033ecb1b",
   "metadata": {},
   "outputs": [
    {
     "name": "stdout",
     "output_type": "stream",
     "text": [
      "       avail_seat_km_per_week  incidents_85_99  fatal_accidents_85_99  \\\n",
      "count            5.600000e+01        56.000000              56.000000   \n",
      "mean             1.384621e+09         7.178571               2.178571   \n",
      "std              1.465317e+09        11.035656               2.861069   \n",
      "min              2.593733e+08         0.000000               0.000000   \n",
      "25%              4.740362e+08         2.000000               0.000000   \n",
      "50%              8.029089e+08         4.000000               1.000000   \n",
      "75%              1.847239e+09         8.000000               3.000000   \n",
      "max              7.139291e+09        76.000000              14.000000   \n",
      "\n",
      "       fatalities_85_99  incidents_00_14  fatal_accidents_00_14  \\\n",
      "count         56.000000        56.000000              56.000000   \n",
      "mean         112.410714         4.125000               0.660714   \n",
      "std          146.691114         4.544977               0.858684   \n",
      "min            0.000000         0.000000               0.000000   \n",
      "25%            0.000000         1.000000               0.000000   \n",
      "50%           48.500000         3.000000               0.000000   \n",
      "75%          184.250000         5.250000               1.000000   \n",
      "max          535.000000        24.000000               3.000000   \n",
      "\n",
      "       fatalities_00_14  \n",
      "count         56.000000  \n",
      "mean          55.517857  \n",
      "std          111.332751  \n",
      "min            0.000000  \n",
      "25%            0.000000  \n",
      "50%            0.000000  \n",
      "75%           83.250000  \n",
      "max          537.000000  \n"
     ]
    }
   ],
   "source": [
    "print(airline_safety.describe())"
   ]
  },
  {
   "cell_type": "markdown",
   "id": "d803e81a",
   "metadata": {},
   "source": [
    "#### Show df column informations"
   ]
  },
  {
   "cell_type": "code",
   "execution_count": 12,
   "id": "c5718945",
   "metadata": {},
   "outputs": [
    {
     "name": "stdout",
     "output_type": "stream",
     "text": [
      "<class 'pandas.core.frame.DataFrame'>\n",
      "RangeIndex: 56 entries, 0 to 55\n",
      "Data columns (total 8 columns):\n",
      " #   Column                  Non-Null Count  Dtype \n",
      "---  ------                  --------------  ----- \n",
      " 0   airline                 56 non-null     object\n",
      " 1   avail_seat_km_per_week  56 non-null     int64 \n",
      " 2   incidents_85_99         56 non-null     int64 \n",
      " 3   fatal_accidents_85_99   56 non-null     int64 \n",
      " 4   fatalities_85_99        56 non-null     int64 \n",
      " 5   incidents_00_14         56 non-null     int64 \n",
      " 6   fatal_accidents_00_14   56 non-null     int64 \n",
      " 7   fatalities_00_14        56 non-null     int64 \n",
      "dtypes: int64(7), object(1)\n",
      "memory usage: 3.6+ KB\n",
      "None\n"
     ]
    }
   ],
   "source": [
    "print(airline_safety.info())"
   ]
  },
  {
   "attachments": {},
   "cell_type": "markdown",
   "id": "59dc697a",
   "metadata": {},
   "source": [
    "#### Select companies and incidents_85_99 with incidents_85_99 is less than 10\n"
   ]
  },
  {
   "cell_type": "code",
   "execution_count": 14,
   "id": "35632e2a",
   "metadata": {},
   "outputs": [
    {
     "name": "stdout",
     "output_type": "stream",
     "text": [
      "                   airline  incidents_85_99\n",
      "0               Aer Lingus                2\n",
      "2    Aerolineas Argentinas                6\n",
      "3              Aeromexico*                3\n",
      "4               Air Canada                2\n",
      "6               Air India*                2\n",
      "7         Air New Zealand*                3\n",
      "8         Alaska Airlines*                5\n",
      "9                 Alitalia                7\n",
      "10      All Nippon Airways                3\n",
      "12       Austrian Airlines                1\n",
      "13                 Avianca                5\n",
      "14        British Airways*                4\n",
      "15         Cathay Pacific*                0\n",
      "17                  Condor                2\n",
      "18                    COPA                3\n",
      "20                Egyptair                8\n",
      "21                   El Al                1\n",
      "23                 Finnair                1\n",
      "25                Gulf Air                1\n",
      "26       Hawaiian Airlines                0\n",
      "27                  Iberia                4\n",
      "28          Japan Airlines                3\n",
      "29           Kenya Airways                2\n",
      "30                    KLM*                7\n",
      "32            LAN Airlines                3\n",
      "33              Lufthansa*                6\n",
      "34       Malaysia Airlines                3\n",
      "35  Pakistan International                8\n",
      "36     Philippine Airlines                7\n",
      "37                 Qantas*                1\n",
      "38         Royal Air Maroc                5\n",
      "39                    SAS*                5\n",
      "40           Saudi Arabian                7\n",
      "41      Singapore Airlines                2\n",
      "42           South African                2\n",
      "43      Southwest Airlines                1\n",
      "44   Sri Lankan / AirLanka                2\n",
      "45                  SWISS*                2\n",
      "46                    TACA                3\n",
      "47                     TAM                8\n",
      "48      TAP - Air Portugal                0\n",
      "49            Thai Airways                8\n",
      "50        Turkish Airlines                8\n",
      "53        Vietnam Airlines                7\n",
      "54         Virgin Atlantic                1\n",
      "55         Xiamen Airlines                9\n"
     ]
    }
   ],
   "source": [
    "df_filtered = airline_safety.loc[airline_safety['incidents_85_99'] < 10, ['airline', 'incidents_85_99']]\n",
    "print(df_filtered)"
   ]
  },
  {
   "cell_type": "markdown",
   "id": "e1a4f653",
   "metadata": {},
   "source": [
    "#### Group companies by first letter(lower) and take the mean incidents_85_99 and make it a dataframe again "
   ]
  },
  {
   "cell_type": "code",
   "execution_count": 17,
   "id": "f05c9d19",
   "metadata": {},
   "outputs": [
    {
     "name": "stdout",
     "output_type": "stream",
     "text": [
      "   airline  incidents_85_99\n",
      "0        a        10.714286\n",
      "1        b         4.000000\n",
      "2        c         4.250000\n",
      "3        d        24.000000\n",
      "4        e        11.333333\n",
      "5        f         1.000000\n",
      "6        g         5.500000\n",
      "7        h         0.000000\n",
      "8        i         4.000000\n",
      "9        j         3.000000\n",
      "10       k         7.000000\n",
      "11       l         4.500000\n",
      "12       m         3.000000\n",
      "13       p         7.500000\n",
      "14       q         1.000000\n",
      "15       r         5.000000\n",
      "16       s         3.000000\n",
      "17       t         5.400000\n",
      "18       u        17.500000\n",
      "19       v         4.000000\n",
      "20       x         9.000000\n"
     ]
    }
   ],
   "source": [
    "df_grouped = airline_safety.groupby(airline_safety['airline'].str[0].str.lower())['incidents_85_99'].apply(np.mean).reset_index()\n",
    "print(df_grouped)"
   ]
  },
  {
   "cell_type": "code",
   "execution_count": null,
   "id": "5a958422",
   "metadata": {},
   "outputs": [],
   "source": []
  }
 ],
 "metadata": {
  "kernelspec": {
   "display_name": "base",
   "language": "python",
   "name": "python3"
  },
  "language_info": {
   "codemirror_mode": {
    "name": "ipython",
    "version": 3
   },
   "file_extension": ".py",
   "mimetype": "text/x-python",
   "name": "python",
   "nbconvert_exporter": "python",
   "pygments_lexer": "ipython3",
   "version": "3.9.13"
  },
  "vscode": {
   "interpreter": {
    "hash": "d181997f5920050c428f47b4e0d4ca307f3989efe9a868292a4fb0c9fdb4a0fb"
   }
  }
 },
 "nbformat": 4,
 "nbformat_minor": 5
}
